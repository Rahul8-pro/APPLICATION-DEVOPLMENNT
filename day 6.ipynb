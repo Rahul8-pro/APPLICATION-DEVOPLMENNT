{
 "cells": [
  {
   "cell_type": "raw",
   "id": "2f34eb6c-69a3-4654-8b29-6d84bcceb946",
   "metadata": {},
   "source": [
    "if condition1:\n",
    "    task1 block of code\n",
    "elif condition2:\n",
    "    task2 block of code\n",
    "elif condition3:\n",
    "     task3 block of code\n",
    "      .\n",
    "      . \n",
    "       .\n",
    "elif condition n:\n",
    "     task n\n",
    "else:\n",
    "   task4 block of code"
   ]
  },
  {
   "cell_type": "code",
   "execution_count": 22,
   "id": "876d6b40",
   "metadata": {},
   "outputs": [
    {
     "name": "stdout",
     "output_type": "stream",
     "text": [
      "odd\n"
     ]
    }
   ],
   "source": [
    "x=-9\n",
    "if x%2==0:\n",
    "    print(\"Even\")\n",
    "else:\n",
    "   print(\"odd\")\n"
   ]
  },
  {
   "cell_type": "code",
   "execution_count": 24,
   "id": "bc34e2f0-40bf-44f4-b4ac-b0e1b97d8837",
   "metadata": {},
   "outputs": [
    {
     "data": {
      "text/plain": [
       "1"
      ]
     },
     "execution_count": 24,
     "metadata": {},
     "output_type": "execute_result"
    }
   ],
   "source": [
    "7%2"
   ]
  },
  {
   "cell_type": "code",
   "execution_count": 26,
   "id": "8e56c146-bcd3-474a-8bbd-304b94c6cd6f",
   "metadata": {},
   "outputs": [
    {
     "data": {
      "text/plain": [
       "False"
      ]
     },
     "execution_count": 26,
     "metadata": {},
     "output_type": "execute_result"
    }
   ],
   "source": [
    "x%2==0\n"
   ]
  },
  {
   "cell_type": "code",
   "execution_count": 28,
   "id": "a51aa1b0-7244-4044-a206-54ad2c33dd90",
   "metadata": {},
   "outputs": [
    {
     "data": {
      "text/plain": [
       "True"
      ]
     },
     "execution_count": 28,
     "metadata": {},
     "output_type": "execute_result"
    }
   ],
   "source": [
    "bool(x+6)"
   ]
  },
  {
   "cell_type": "code",
   "execution_count": 20,
   "id": "b9ca6cbc-ad3e-4a4f-892c-3b058ef77ab7",
   "metadata": {},
   "outputs": [
    {
     "data": {
      "text/plain": [
       "15"
      ]
     },
     "execution_count": 20,
     "metadata": {},
     "output_type": "execute_result"
    }
   ],
   "source": [
    "x+6\n"
   ]
  },
  {
   "cell_type": "code",
   "execution_count": 127,
   "id": "f5204e4c-c01e-424c-b4d0-5fb4f7d7a682",
   "metadata": {},
   "outputs": [
    {
     "name": "stdout",
     "output_type": "stream",
     "text": [
      "neg\n",
      "Z\n"
     ]
    }
   ],
   "source": [
    "x=-10\n",
    "if x>0:\n",
    "    print('pop')\n",
    "    if x>10:\n",
    "        print('M')\n",
    "    elif x>20:\n",
    "        print('P')\n",
    "    elif x<10:\n",
    "        print('K')\n",
    "    else:\n",
    "        print('T')\n",
    "\n",
    "elif x<0:\n",
    "    print('neg')\n",
    "\n",
    "    if x<-20:\n",
    "        print('Q')\n",
    "    elif x>-10:\n",
    "         print('C')\n",
    "    elif x>-30:\n",
    "         print('Z')\n",
    "else:\n",
    "    print('zero')\n",
    "    "
   ]
  },
  {
   "cell_type": "code",
   "execution_count": 111,
   "id": "6b190894-6826-40dd-898a-debf7f1bbb68",
   "metadata": {},
   "outputs": [
    {
     "name": "stdout",
     "output_type": "stream",
     "text": [
      "yes\n"
     ]
    }
   ],
   "source": [
    "x='Telangana'\n",
    "x='Tiger'\n",
    "x='Tan'\n",
    "if x[0] == 't' or x[0]=='T':\n",
    "   print(\"yes\")\n",
    "else:\n",
    "   print(\"No\")"
   ]
  },
  {
   "cell_type": "code",
   "execution_count": 113,
   "id": "15a6c849-a896-4d6c-9eba-1052253e4379",
   "metadata": {},
   "outputs": [],
   "source": [
    "x= \"lion\"\n",
    "x=\"mumbai\""
   ]
  },
  {
   "cell_type": "code",
   "execution_count": 125,
   "id": "3a1daccf-0100-4f7d-b169-a5d015b407fc",
   "metadata": {},
   "outputs": [
    {
     "name": "stdout",
     "output_type": "stream",
     "text": [
      "yes\n"
     ]
    }
   ],
   "source": [
    "x='tiger'\n",
    "if x[0]== 't' or x[0]=='T' or x[0]=='s' or x[0]== 'S' or x[0]== 'm' or x[0]=='m' or x[0]== 'M':\n",
    "  print(\"yes\")\n",
    "else:\n",
    "  print(\"No\")"
   ]
  },
  {
   "cell_type": "code",
   "execution_count": 135,
   "id": "4142d46f-66fa-436c-8f2e-9fec39a9b9cf",
   "metadata": {},
   "outputs": [
    {
     "name": "stdin",
     "output_type": "stream",
     "text": [
      "Enter any string:  tiger\n"
     ]
    },
    {
     "name": "stdout",
     "output_type": "stream",
     "text": [
      "No\n"
     ]
    }
   ],
   "source": [
    "x=input(\"Enter any string: \")\n",
    "if x[0].lower()=='t':\n",
    "   print(\"yes\")\n",
    "else:\n",
    "   print(\"No\")"
   ]
  },
  {
   "cell_type": "code",
   "execution_count": null,
   "id": "dc44cee0-1a23-45b9-b566-325999fd6443",
   "metadata": {},
   "outputs": [],
   "source": []
  }
 ],
 "metadata": {
  "kernelspec": {
   "display_name": "Python [conda env:base] *",
   "language": "python",
   "name": "conda-base-py"
  },
  "language_info": {
   "codemirror_mode": {
    "name": "ipython",
    "version": 3
   },
   "file_extension": ".py",
   "mimetype": "text/x-python",
   "name": "python",
   "nbconvert_exporter": "python",
   "pygments_lexer": "ipython3",
   "version": "3.12.7"
  }
 },
 "nbformat": 4,
 "nbformat_minor": 5
}
