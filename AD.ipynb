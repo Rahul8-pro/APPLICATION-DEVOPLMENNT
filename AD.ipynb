{
 "cells": [
  {
   "cell_type": "markdown",
   "id": "a7bb9a27-9d63-4db8-bd0b-0618fb25ec00",
   "metadata": {},
   "source": [
    "### addtiyion +\n",
    "### substraction -\n",
    "### multiplication *\n",
    "### division /\n",
    "### remainder %\n",
    "### power **\n",
    "### //floor division \n"
   ]
  },
  {
   "cell_type": "code",
   "execution_count": 2,
   "id": "52633dcc-a6f9-4902-a1cb-6d4cb255b9bb",
   "metadata": {},
   "outputs": [],
   "source": [
    "a=108\n",
    "b=3"
   ]
  },
  {
   "cell_type": "code",
   "execution_count": 3,
   "id": "6c023c0c-953d-4f94-8534-4e94690e39ab",
   "metadata": {},
   "outputs": [
    {
     "data": {
      "text/plain": [
       "111"
      ]
     },
     "execution_count": 3,
     "metadata": {},
     "output_type": "execute_result"
    }
   ],
   "source": [
    "a+b\n"
   ]
  },
  {
   "cell_type": "code",
   "execution_count": 4,
   "id": "b4a2c0eb-ca90-40b4-93e0-28d328da2390",
   "metadata": {},
   "outputs": [
    {
     "data": {
      "text/plain": [
       "105"
      ]
     },
     "execution_count": 4,
     "metadata": {},
     "output_type": "execute_result"
    }
   ],
   "source": [
    "c= a-b\n",
    "c"
   ]
  },
  {
   "cell_type": "code",
   "execution_count": 5,
   "id": "ac5da05c-4c9b-4bf6-a383-097cfcd92f3a",
   "metadata": {},
   "outputs": [
    {
     "data": {
      "text/plain": [
       "int"
      ]
     },
     "execution_count": 5,
     "metadata": {},
     "output_type": "execute_result"
    }
   ],
   "source": [
    "type(c)"
   ]
  },
  {
   "cell_type": "code",
   "execution_count": 6,
   "id": "03a8d514-86f5-48ab-ab46-461b4b2915e8",
   "metadata": {},
   "outputs": [
    {
     "data": {
      "text/plain": [
       "105"
      ]
     },
     "execution_count": 6,
     "metadata": {},
     "output_type": "execute_result"
    }
   ],
   "source": [
    "d = a-b\n",
    "d"
   ]
  },
  {
   "cell_type": "code",
   "execution_count": 7,
   "id": "36c8214d-a352-4580-99e8-00591de15b44",
   "metadata": {},
   "outputs": [
    {
     "data": {
      "text/plain": [
       "int"
      ]
     },
     "execution_count": 7,
     "metadata": {},
     "output_type": "execute_result"
    }
   ],
   "source": [
    "type(d)"
   ]
  },
  {
   "cell_type": "code",
   "execution_count": 8,
   "id": "91e78eb2-2214-43c8-b7e9-d69671b73a86",
   "metadata": {},
   "outputs": [
    {
     "data": {
      "text/plain": [
       "324"
      ]
     },
     "execution_count": 8,
     "metadata": {},
     "output_type": "execute_result"
    }
   ],
   "source": [
    "a*b"
   ]
  },
  {
   "cell_type": "code",
   "execution_count": 9,
   "id": "1cd80abe-124d-43f6-8cad-1d1850a2af45",
   "metadata": {},
   "outputs": [
    {
     "data": {
      "text/plain": [
       "324"
      ]
     },
     "execution_count": 9,
     "metadata": {},
     "output_type": "execute_result"
    }
   ],
   "source": [
    "c=a*b\n",
    "c"
   ]
  },
  {
   "cell_type": "code",
   "execution_count": 10,
   "id": "73ad14c5-a384-4219-be3e-623646f71655",
   "metadata": {},
   "outputs": [
    {
     "data": {
      "text/plain": [
       "int"
      ]
     },
     "execution_count": 10,
     "metadata": {},
     "output_type": "execute_result"
    }
   ],
   "source": [
    "type(c)"
   ]
  },
  {
   "cell_type": "code",
   "execution_count": 11,
   "id": "a2e12897-d1ea-4217-ba3d-66911a26b729",
   "metadata": {},
   "outputs": [
    {
     "data": {
      "text/plain": [
       "324"
      ]
     },
     "execution_count": 11,
     "metadata": {},
     "output_type": "execute_result"
    }
   ],
   "source": [
    "d=a*b\n",
    "d"
   ]
  },
  {
   "cell_type": "code",
   "execution_count": 12,
   "id": "d523f908-0abf-46c5-920d-f6d2d1d1663a",
   "metadata": {},
   "outputs": [
    {
     "data": {
      "text/plain": [
       "324"
      ]
     },
     "execution_count": 12,
     "metadata": {},
     "output_type": "execute_result"
    }
   ],
   "source": [
    "type(d)\n",
    "d"
   ]
  },
  {
   "cell_type": "code",
   "execution_count": 13,
   "id": "fa4c38e1-4a65-495e-a838-1960ba08e23f",
   "metadata": {},
   "outputs": [
    {
     "data": {
      "text/plain": [
       "0.3333333333333333"
      ]
     },
     "execution_count": 13,
     "metadata": {},
     "output_type": "execute_result"
    }
   ],
   "source": [
    "a/d"
   ]
  },
  {
   "cell_type": "code",
   "execution_count": 14,
   "id": "08c97948-3e34-457b-a479-660ff60e066a",
   "metadata": {},
   "outputs": [
    {
     "data": {
      "text/plain": [
       "36.0"
      ]
     },
     "execution_count": 14,
     "metadata": {},
     "output_type": "execute_result"
    }
   ],
   "source": [
    "c=a/b\n",
    "c"
   ]
  },
  {
   "cell_type": "code",
   "execution_count": 15,
   "id": "ae5369ec-25fe-42c0-a378-38f029a294d3",
   "metadata": {},
   "outputs": [
    {
     "data": {
      "text/plain": [
       "36.0"
      ]
     },
     "execution_count": 15,
     "metadata": {},
     "output_type": "execute_result"
    }
   ],
   "source": [
    "d=a/b\n",
    "d"
   ]
  },
  {
   "cell_type": "code",
   "execution_count": 16,
   "id": "4b978d24-8c6d-4544-93eb-06a72dba7993",
   "metadata": {},
   "outputs": [
    {
     "data": {
      "text/plain": [
       "float"
      ]
     },
     "execution_count": 16,
     "metadata": {},
     "output_type": "execute_result"
    }
   ],
   "source": [
    "type(d)"
   ]
  },
  {
   "cell_type": "code",
   "execution_count": 17,
   "id": "9036a2c6-1176-4542-b41c-ffb0c3bd1816",
   "metadata": {},
   "outputs": [
    {
     "data": {
      "text/plain": [
       "0"
      ]
     },
     "execution_count": 17,
     "metadata": {},
     "output_type": "execute_result"
    }
   ],
   "source": [
    "a%b"
   ]
  },
  {
   "cell_type": "code",
   "execution_count": 18,
   "id": "aeb5689d-6e65-4a87-9973-59eb0099bdaf",
   "metadata": {},
   "outputs": [
    {
     "data": {
      "text/plain": [
       "0"
      ]
     },
     "execution_count": 18,
     "metadata": {},
     "output_type": "execute_result"
    }
   ],
   "source": [
    "c=a%b\n",
    "c"
   ]
  },
  {
   "cell_type": "code",
   "execution_count": 19,
   "id": "7fd769aa-9473-412a-9ec6-313906bb68cf",
   "metadata": {},
   "outputs": [
    {
     "data": {
      "text/plain": [
       "int"
      ]
     },
     "execution_count": 19,
     "metadata": {},
     "output_type": "execute_result"
    }
   ],
   "source": [
    "type(c)"
   ]
  },
  {
   "cell_type": "code",
   "execution_count": 20,
   "id": "b33db701-ed4f-4ccb-ba5b-18f14deac1d9",
   "metadata": {},
   "outputs": [
    {
     "data": {
      "text/plain": [
       "0"
      ]
     },
     "execution_count": 20,
     "metadata": {},
     "output_type": "execute_result"
    }
   ],
   "source": [
    "d= a%b\n",
    "d"
   ]
  },
  {
   "cell_type": "code",
   "execution_count": 21,
   "id": "cf7a7151-da2d-46a7-bc7d-7cf68e040ec0",
   "metadata": {},
   "outputs": [
    {
     "data": {
      "text/plain": [
       "int"
      ]
     },
     "execution_count": 21,
     "metadata": {},
     "output_type": "execute_result"
    }
   ],
   "source": [
    "type(d)"
   ]
  },
  {
   "cell_type": "code",
   "execution_count": 22,
   "id": "41121d48-9d01-4b97-b8c6-118c90e109b7",
   "metadata": {},
   "outputs": [
    {
     "data": {
      "text/plain": [
       "1259712"
      ]
     },
     "execution_count": 22,
     "metadata": {},
     "output_type": "execute_result"
    }
   ],
   "source": [
    "a**b"
   ]
  },
  {
   "cell_type": "code",
   "execution_count": 23,
   "id": "a26b5f08-c3ab-40c6-8331-97a6ed09d111",
   "metadata": {},
   "outputs": [
    {
     "data": {
      "text/plain": [
       "1259712"
      ]
     },
     "execution_count": 23,
     "metadata": {},
     "output_type": "execute_result"
    }
   ],
   "source": [
    "c=a**b\n",
    "c"
   ]
  },
  {
   "cell_type": "code",
   "execution_count": 24,
   "id": "63311735-d018-4777-82e4-9b32bc438042",
   "metadata": {},
   "outputs": [
    {
     "data": {
      "text/plain": [
       "int"
      ]
     },
     "execution_count": 24,
     "metadata": {},
     "output_type": "execute_result"
    }
   ],
   "source": [
    "type(c)"
   ]
  },
  {
   "cell_type": "code",
   "execution_count": 25,
   "id": "ff72f1aa-ee88-47c5-ae16-c859dfdedd40",
   "metadata": {},
   "outputs": [
    {
     "data": {
      "text/plain": [
       "36"
      ]
     },
     "execution_count": 25,
     "metadata": {},
     "output_type": "execute_result"
    }
   ],
   "source": [
    "a//b\n"
   ]
  },
  {
   "cell_type": "code",
   "execution_count": 26,
   "id": "42e88f05-251a-46aa-8069-75be4a6ebb69",
   "metadata": {},
   "outputs": [
    {
     "data": {
      "text/plain": [
       "36"
      ]
     },
     "execution_count": 26,
     "metadata": {},
     "output_type": "execute_result"
    }
   ],
   "source": [
    "c=a//b\n",
    "c"
   ]
  },
  {
   "cell_type": "code",
   "execution_count": 27,
   "id": "f90b195a-b922-4766-8229-1e828d5c6016",
   "metadata": {},
   "outputs": [
    {
     "data": {
      "text/plain": [
       "0"
      ]
     },
     "execution_count": 27,
     "metadata": {},
     "output_type": "execute_result"
    }
   ],
   "source": [
    "d=b//a\n",
    "d"
   ]
  },
  {
   "cell_type": "code",
   "execution_count": 28,
   "id": "460e2898-791f-40f5-b8cd-322f2aea1f25",
   "metadata": {},
   "outputs": [
    {
     "data": {
      "text/plain": [
       "int"
      ]
     },
     "execution_count": 28,
     "metadata": {},
     "output_type": "execute_result"
    }
   ],
   "source": [
    "type(d)"
   ]
  },
  {
   "cell_type": "markdown",
   "id": "9d8de5aa-9ec1-4e3b-b9e9-988d5fbca8fc",
   "metadata": {},
   "source": [
    " ###  < > <= >= !="
   ]
  },
  {
   "cell_type": "code",
   "execution_count": 30,
   "id": "d67c2f53-1ee8-4f7f-a418-bfda14cce568",
   "metadata": {},
   "outputs": [],
   "source": [
    "a=420\n",
    "b=220"
   ]
  },
  {
   "cell_type": "code",
   "execution_count": 31,
   "id": "6ab98928-dca8-41cb-8157-9a5f902b650f",
   "metadata": {},
   "outputs": [
    {
     "data": {
      "text/plain": [
       "False"
      ]
     },
     "execution_count": 31,
     "metadata": {},
     "output_type": "execute_result"
    }
   ],
   "source": [
    "a<b"
   ]
  },
  {
   "cell_type": "code",
   "execution_count": 32,
   "id": "2d15fed5-cd06-4bce-97ce-0e32d4d1abf3",
   "metadata": {},
   "outputs": [
    {
     "data": {
      "text/plain": [
       "True"
      ]
     },
     "execution_count": 32,
     "metadata": {},
     "output_type": "execute_result"
    }
   ],
   "source": [
    " b<=a "
   ]
  },
  {
   "cell_type": "code",
   "execution_count": 33,
   "id": "4f6e9c5d-1826-4dc8-854d-4f008f46cf4d",
   "metadata": {},
   "outputs": [
    {
     "data": {
      "text/plain": [
       "False"
      ]
     },
     "execution_count": 33,
     "metadata": {},
     "output_type": "execute_result"
    }
   ],
   "source": [
    "a==b"
   ]
  },
  {
   "cell_type": "code",
   "execution_count": 34,
   "id": "7a1c07b2-1237-4b65-bbfe-376b02935eab",
   "metadata": {},
   "outputs": [
    {
     "data": {
      "text/plain": [
       "True"
      ]
     },
     "execution_count": 34,
     "metadata": {},
     "output_type": "execute_result"
    }
   ],
   "source": [
    "a>b"
   ]
  },
  {
   "cell_type": "code",
   "execution_count": 35,
   "id": "513eb1cc-d04d-4c26-931d-2d762b05bdea",
   "metadata": {},
   "outputs": [
    {
     "data": {
      "text/plain": [
       "True"
      ]
     },
     "execution_count": 35,
     "metadata": {},
     "output_type": "execute_result"
    }
   ],
   "source": [
    "a>=b"
   ]
  },
  {
   "cell_type": "code",
   "execution_count": 36,
   "id": "7bd8feaf-e0f0-435a-8d85-4631de420ffa",
   "metadata": {},
   "outputs": [
    {
     "data": {
      "text/plain": [
       "True"
      ]
     },
     "execution_count": 36,
     "metadata": {},
     "output_type": "execute_result"
    }
   ],
   "source": [
    "a!=b"
   ]
  },
  {
   "cell_type": "code",
   "execution_count": 37,
   "id": "a08794e3-5c70-41ff-b10c-56336f3d3637",
   "metadata": {},
   "outputs": [
    {
     "data": {
      "text/plain": [
       "False"
      ]
     },
     "execution_count": 37,
     "metadata": {},
     "output_type": "execute_result"
    }
   ],
   "source": [
    "3<2"
   ]
  },
  {
   "cell_type": "code",
   "execution_count": 38,
   "id": "3bfc1e9e-97dd-4d73-a39c-c7be186cc63b",
   "metadata": {},
   "outputs": [
    {
     "data": {
      "text/plain": [
       "True"
      ]
     },
     "execution_count": 38,
     "metadata": {},
     "output_type": "execute_result"
    }
   ],
   "source": [
    "8==4*2"
   ]
  },
  {
   "cell_type": "markdown",
   "id": "41114a67-5880-44ef-b7e9-685d4020e0b7",
   "metadata": {},
   "source": [
    "### Logical operators"
   ]
  },
  {
   "cell_type": "markdown",
   "id": "86863ff2-fe8b-4449-9db3-cdad67c0d8df",
   "metadata": {},
   "source": [
    " and \n",
    " or \n",
    " not "
   ]
  },
  {
   "cell_type": "code",
   "execution_count": 41,
   "id": "8245613e-63f6-479a-b17a-c4b785ab5003",
   "metadata": {},
   "outputs": [
    {
     "data": {
      "text/plain": [
       "False"
      ]
     },
     "execution_count": 41,
     "metadata": {},
     "output_type": "execute_result"
    }
   ],
   "source": [
    "3>=9\n"
   ]
  },
  {
   "cell_type": "code",
   "execution_count": 42,
   "id": "dee0040f-675e-4d0e-bfe8-a46f5a6dbd8d",
   "metadata": {},
   "outputs": [],
   "source": [
    "a=330\n",
    "b=420"
   ]
  },
  {
   "cell_type": "code",
   "execution_count": 43,
   "id": "a2b0d467-5f3c-4cfd-9614-2111b470a4c1",
   "metadata": {},
   "outputs": [
    {
     "data": {
      "text/plain": [
       "True"
      ]
     },
     "execution_count": 43,
     "metadata": {},
     "output_type": "execute_result"
    }
   ],
   "source": [
    "a<=b"
   ]
  },
  {
   "cell_type": "code",
   "execution_count": 44,
   "id": "863da430-b092-49f4-adec-ceddf5d1d24c",
   "metadata": {},
   "outputs": [
    {
     "data": {
      "text/plain": [
       "False"
      ]
     },
     "execution_count": 44,
     "metadata": {},
     "output_type": "execute_result"
    }
   ],
   "source": [
    "a>=b and a>b"
   ]
  },
  {
   "cell_type": "code",
   "execution_count": 45,
   "id": "c6fdc7a4-cd9a-43e2-8ce8-ccacfc2336b5",
   "metadata": {},
   "outputs": [
    {
     "data": {
      "text/plain": [
       "True"
      ]
     },
     "execution_count": 45,
     "metadata": {},
     "output_type": "execute_result"
    }
   ],
   "source": [
    "not a>b"
   ]
  },
  {
   "cell_type": "code",
   "execution_count": 46,
   "id": "5e1d01f3-3562-49c2-bc85-5ca791b77d49",
   "metadata": {},
   "outputs": [
    {
     "data": {
      "text/plain": [
       "True"
      ]
     },
     "execution_count": 46,
     "metadata": {},
     "output_type": "execute_result"
    }
   ],
   "source": [
    "a<b or a>b"
   ]
  },
  {
   "cell_type": "markdown",
   "id": "5c761406-33af-4232-8b55-852f22c52d1d",
   "metadata": {},
   "source": [
    " ### Membership Operators"
   ]
  },
  {
   "cell_type": "code",
   "execution_count": 48,
   "id": "a05c979c-678d-4c19-8db6-736716c148a3",
   "metadata": {},
   "outputs": [
    {
     "name": "stdout",
     "output_type": "stream",
     "text": [
      "True\n"
     ]
    }
   ],
   "source": [
    "a = (\"rahul\",\"Rahul\")\n",
    "print(\"rahul\" in a)\n"
   ]
  },
  {
   "cell_type": "code",
   "execution_count": 49,
   "id": "55bfc79a-c5f4-4122-84d1-2878dc894619",
   "metadata": {},
   "outputs": [
    {
     "name": "stdout",
     "output_type": "stream",
     "text": [
      "False\n"
     ]
    }
   ],
   "source": [
    "a = (\"rahul\",\"btech\")\n",
    "print(\"rahul\" not in a)\n"
   ]
  },
  {
   "cell_type": "code",
   "execution_count": 50,
   "id": "c0a99f9a-529b-4072-a3a5-56728faee803",
   "metadata": {},
   "outputs": [
    {
     "data": {
      "text/plain": [
       "[23, 34, 45, 56, 67]"
      ]
     },
     "execution_count": 50,
     "metadata": {},
     "output_type": "execute_result"
    }
   ],
   "source": [
    "a=[23,34,45,56,67]\n",
    "a\n"
   ]
  },
  {
   "cell_type": "code",
   "execution_count": 51,
   "id": "6d9bd73d-2aac-4df3-8f1c-85a02544cd8b",
   "metadata": {},
   "outputs": [
    {
     "data": {
      "text/plain": [
       "list"
      ]
     },
     "execution_count": 51,
     "metadata": {},
     "output_type": "execute_result"
    }
   ],
   "source": [
    "type(a)"
   ]
  },
  {
   "cell_type": "code",
   "execution_count": 52,
   "id": "73a8cece-94b3-4ba9-bdc9-04cbf086efd5",
   "metadata": {},
   "outputs": [
    {
     "data": {
      "text/plain": [
       "[340, 80.45, 'data', (1+2j), 'rahul']"
      ]
     },
     "execution_count": 52,
     "metadata": {},
     "output_type": "execute_result"
    }
   ],
   "source": [
    "c=[340,80.45,'data',1+2j,\"rahul\"]\n",
    "c"
   ]
  },
  {
   "cell_type": "code",
   "execution_count": 53,
   "id": "c6a1ef25-bb4c-487b-8082-2dca86277493",
   "metadata": {},
   "outputs": [
    {
     "data": {
      "text/plain": [
       "[203, 'kamareddy', True, False, 78, 95, 35.5, 160]"
      ]
     },
     "execution_count": 53,
     "metadata": {},
     "output_type": "execute_result"
    }
   ],
   "source": [
    "c=[203,'kamareddy',True,False,78,95,35.5,160]\n",
    "c"
   ]
  },
  {
   "cell_type": "code",
   "execution_count": 54,
   "id": "dcf5a386-7e49-414f-b4f3-00667e6707d9",
   "metadata": {},
   "outputs": [
    {
     "data": {
      "text/plain": [
       "[160]"
      ]
     },
     "execution_count": 54,
     "metadata": {},
     "output_type": "execute_result"
    }
   ],
   "source": [
    "c[-1:-2:-1]"
   ]
  },
  {
   "cell_type": "code",
   "execution_count": 55,
   "id": "46c9e822-883a-48ad-9a74-b29814cd5163",
   "metadata": {},
   "outputs": [
    {
     "data": {
      "text/plain": [
       "[160, 35.5, 95, 78, False, True, 'kamareddy', 203]"
      ]
     },
     "execution_count": 55,
     "metadata": {},
     "output_type": "execute_result"
    }
   ],
   "source": [
    "c[-1::-1]"
   ]
  },
  {
   "cell_type": "code",
   "execution_count": 56,
   "id": "6a21ef2f-84e3-4601-bd6b-dded16277e42",
   "metadata": {},
   "outputs": [
    {
     "data": {
      "text/plain": [
       "[78, 95, 35.5, 160]"
      ]
     },
     "execution_count": 56,
     "metadata": {},
     "output_type": "execute_result"
    }
   ],
   "source": [
    "c[4:12]"
   ]
  },
  {
   "cell_type": "code",
   "execution_count": 57,
   "id": "4b4e85d6-253c-4dea-98ff-e7bab3414988",
   "metadata": {},
   "outputs": [
    {
     "data": {
      "text/plain": [
       "list"
      ]
     },
     "execution_count": 57,
     "metadata": {},
     "output_type": "execute_result"
    }
   ],
   "source": [
    "type(c)"
   ]
  },
  {
   "cell_type": "code",
   "execution_count": 111,
   "id": "5b7ae4ad-0e57-4ee6-9dfe-f071adf9df6f",
   "metadata": {},
   "outputs": [
    {
     "data": {
      "text/plain": [
       "[35.5, 78]"
      ]
     },
     "execution_count": 111,
     "metadata": {},
     "output_type": "execute_result"
    }
   ],
   "source": [
    "c[-2:-6:-2]"
   ]
  },
  {
   "cell_type": "code",
   "execution_count": 113,
   "id": "6fe2c675-efac-42e4-bbd3-c17f86929a8e",
   "metadata": {},
   "outputs": [
    {
     "data": {
      "text/plain": [
       "[True, False]"
      ]
     },
     "execution_count": 113,
     "metadata": {},
     "output_type": "execute_result"
    }
   ],
   "source": [
    "c[2:4]"
   ]
  },
  {
   "cell_type": "markdown",
   "id": "8ba87bd0-2aab-45dc-acc9-1f259f23bbfd",
   "metadata": {},
   "source": [
    "### list method"
   ]
  },
  {
   "cell_type": "markdown",
   "id": "38917b8f-20a6-48e2-99f2-5f7c1850ee9a",
   "metadata": {},
   "source": [
    "### append\n",
    "### insert\n",
    "### extend\n",
    "### pop\n",
    "### remove\n",
    "### clear\n",
    "### count"
   ]
  },
  {
   "cell_type": "code",
   "execution_count": 120,
   "id": "8ff40294-3a11-416e-a23b-79fa83f18562",
   "metadata": {},
   "outputs": [
    {
     "data": {
      "text/plain": [
       "[203, 'kamareddy', True, False, 78, 95, 35.5, 160]"
      ]
     },
     "execution_count": 120,
     "metadata": {},
     "output_type": "execute_result"
    }
   ],
   "source": [
    "c"
   ]
  },
  {
   "cell_type": "code",
   "execution_count": 122,
   "id": "d2dc0ccf-30bf-4cb1-87f1-23a07d3ffd9e",
   "metadata": {},
   "outputs": [
    {
     "data": {
      "text/plain": [
       "True"
      ]
     },
     "execution_count": 122,
     "metadata": {},
     "output_type": "execute_result"
    }
   ],
   "source": [
    "c.pop(2)"
   ]
  },
  {
   "cell_type": "code",
   "execution_count": 124,
   "id": "56b32af6-56e9-48e6-bc8a-bcbe578001bf",
   "metadata": {},
   "outputs": [
    {
     "data": {
      "text/plain": [
       "[203, 'kamareddy', False, 78, 95, 35.5, 160]"
      ]
     },
     "execution_count": 124,
     "metadata": {},
     "output_type": "execute_result"
    }
   ],
   "source": [
    "c"
   ]
  },
  {
   "cell_type": "code",
   "execution_count": 131,
   "id": "cc2c902c-0cbd-487c-b006-3af06e7a5dc3",
   "metadata": {},
   "outputs": [
    {
     "data": {
      "text/plain": [
       "[203, 'kamareddy', False, 78, 95, 35.5, 160, 'rahul', 'rahul']"
      ]
     },
     "execution_count": 131,
     "metadata": {},
     "output_type": "execute_result"
    }
   ],
   "source": [
    "c.append(\"rahul\")\n",
    "c"
   ]
  },
  {
   "cell_type": "markdown",
   "id": "5f23e720-bfb0-4c5e-9d24-45b9522b32c3",
   "metadata": {},
   "source": [
    "### Write a Python program that takes a student's marks in three subjects as input.\n",
    "### If the average is greater than or equal to 90, print \"Grade: A\".\n",
    "### If the average is between 80 and 89, print \"Grade: B\".\n",
    "### If the average is between 70 and 79, print \"Grade: C\".\n",
    "### Otherwise, print \"Grade: Fail\".\n"
   ]
  },
  {
   "cell_type": "code",
   "execution_count": 6,
   "id": "06c0476c-72d5-485b-8675-bc83365a0ee6",
   "metadata": {},
   "outputs": [
    {
     "name": "stdin",
     "output_type": "stream",
     "text": [
      "Enter marks for subject 1:  50\n",
      "Enter marks for subject 2:  30\n",
      "Enter marks for subject 3:  20\n"
     ]
    },
    {
     "name": "stdout",
     "output_type": "stream",
     "text": [
      "Grade: Fail\n"
     ]
    }
   ],
   "source": [
    "def calculate_grade():\n",
    "    try:\n",
    "        # Input marks for three subjects\n",
    "        mark1 = float(input(\"Enter marks for subject 1: \"))\n",
    "        mark2 = float(input(\"Enter marks for subject 2: \"))\n",
    "        mark3 = float(input(\"Enter marks for subject 3: \"))\n",
    "\n",
    "        # Calculate average marks\n",
    "        average = (mark1 + mark2 + mark3) / 3\n",
    "\n",
    "        # Determine grade based on average\n",
    "        if average >= 90:\n",
    "            grade = \"A\"\n",
    "        elif 80 <= average < 90:\n",
    "            grade = \"B\"\n",
    "        elif 70 <= average < 80:\n",
    "            grade = \"C\"\n",
    "        else:\n",
    "            grade = \"Fail\"\n",
    "\n",
    "        # Print the grade\n",
    "        print(f\"Grade: {grade}\")\n",
    "\n",
    "    except ValueError:\n",
    "        print(\"Invalid input! Please enter numerical values for marks.\")\n",
    "\n",
    "# Run the program\n",
    "calculate_grade()\n"
   ]
  },
  {
   "cell_type": "code",
   "execution_count": 3,
   "id": "8df58eb6-9433-4255-a0c2-2784835844c5",
   "metadata": {},
   "outputs": [
    {
     "data": {
      "text/plain": [
       "(90, 70, 50, 30, 20)"
      ]
     },
     "execution_count": 3,
     "metadata": {},
     "output_type": "execute_result"
    }
   ],
   "source": [
    "h= (90,70,50,30,20)\n",
    "h"
   ]
  },
  {
   "cell_type": "code",
   "execution_count": 7,
   "id": "561915d6-f11c-4c80-8bea-03a905fb3c66",
   "metadata": {},
   "outputs": [
    {
     "data": {
      "text/plain": [
       "(90, 70, 50, 30, 20)"
      ]
     },
     "execution_count": 7,
     "metadata": {},
     "output_type": "execute_result"
    }
   ],
   "source": [
    "h.count\n",
    "h"
   ]
  },
  {
   "cell_type": "code",
   "execution_count": 9,
   "id": "4935fa7b-f7d0-4267-9646-017fbb3b463e",
   "metadata": {},
   "outputs": [
    {
     "data": {
      "text/plain": [
       "tuple"
      ]
     },
     "execution_count": 9,
     "metadata": {},
     "output_type": "execute_result"
    }
   ],
   "source": [
    "type(h)"
   ]
  },
  {
   "cell_type": "code",
   "execution_count": 17,
   "id": "ae05df9e-8040-4773-b3c2-d905869b8808",
   "metadata": {},
   "outputs": [
    {
     "data": {
      "text/plain": [
       "(90, 70, 50, 30, 20)"
      ]
     },
     "execution_count": 17,
     "metadata": {},
     "output_type": "execute_result"
    }
   ],
   "source": [
    "h.count(90)\n",
    "h"
   ]
  },
  {
   "cell_type": "markdown",
   "id": "2cd7bc7b-f010-448d-83f4-00f8afe65872",
   "metadata": {},
   "source": [
    "### sets"
   ]
  },
  {
   "cell_type": "code",
   "execution_count": 38,
   "id": "92943842-61ce-4e83-88be-93c3dbe2a30e",
   "metadata": {},
   "outputs": [
    {
     "data": {
      "text/plain": [
       "{34, 45, 54, 67, 87, 90, 98, 600}"
      ]
     },
     "execution_count": 38,
     "metadata": {},
     "output_type": "execute_result"
    }
   ],
   "source": [
    "s={45,34,54,67,87,90,98,600,600,600}\n",
    "s"
   ]
  },
  {
   "cell_type": "code",
   "execution_count": 35,
   "id": "de14b60a-194a-4466-a17c-776186248ae2",
   "metadata": {},
   "outputs": [
    {
     "data": {
      "text/plain": [
       "set"
      ]
     },
     "execution_count": 35,
     "metadata": {},
     "output_type": "execute_result"
    }
   ],
   "source": [
    "type(s)"
   ]
  },
  {
   "cell_type": "code",
   "execution_count": 46,
   "id": "4b507a6a-7d22-4751-a3c1-0fe47d82a6e3",
   "metadata": {},
   "outputs": [
    {
     "data": {
      "text/plain": [
       "{34, 45, 54, 67, 77, 87, 90, 98, 600}"
      ]
     },
     "execution_count": 46,
     "metadata": {},
     "output_type": "execute_result"
    }
   ],
   "source": [
    "s.add(77)\n",
    "s"
   ]
  },
  {
   "cell_type": "code",
   "execution_count": 56,
   "id": "55e4caf1-5887-4732-b586-04f2bf0ced1b",
   "metadata": {},
   "outputs": [],
   "source": [
    "s.remove(45)\n"
   ]
  },
  {
   "cell_type": "code",
   "execution_count": 58,
   "id": "e7daf629-c4e9-47b7-b5a3-f2b07295f528",
   "metadata": {},
   "outputs": [
    {
     "data": {
      "text/plain": [
       "{34, 67, 77, 87, 90, 98, 600}"
      ]
     },
     "execution_count": 58,
     "metadata": {},
     "output_type": "execute_result"
    }
   ],
   "source": [
    "s"
   ]
  },
  {
   "cell_type": "code",
   "execution_count": 62,
   "id": "160e645e-1ec1-4dc0-b5df-e7dea8bf7209",
   "metadata": {},
   "outputs": [
    {
     "data": {
      "text/plain": [
       "{13, 24, 45, 67, 90, 96}"
      ]
     },
     "execution_count": 62,
     "metadata": {},
     "output_type": "execute_result"
    }
   ],
   "source": [
    "y={13,45,24,96,67,90}\n",
    "y"
   ]
  },
  {
   "cell_type": "code",
   "execution_count": 64,
   "id": "3dfd1350-3d56-46fc-8666-ecf02ec3a595",
   "metadata": {},
   "outputs": [
    {
     "data": {
      "text/plain": [
       "{34, 77, 87, 98, 600}"
      ]
     },
     "execution_count": 64,
     "metadata": {},
     "output_type": "execute_result"
    }
   ],
   "source": [
    "s.difference(y)"
   ]
  },
  {
   "cell_type": "code",
   "execution_count": 66,
   "id": "a4ceb126-23d4-45a2-b91b-36d169c3e619",
   "metadata": {},
   "outputs": [
    {
     "data": {
      "text/plain": [
       "{67, 90}"
      ]
     },
     "execution_count": 66,
     "metadata": {},
     "output_type": "execute_result"
    }
   ],
   "source": [
    "s.intersection(y)"
   ]
  },
  {
   "cell_type": "code",
   "execution_count": 68,
   "id": "b07131d3-0602-4b54-9d03-bbfabae842a4",
   "metadata": {},
   "outputs": [
    {
     "data": {
      "text/plain": [
       "{13, 24, 34, 45, 67, 77, 87, 90, 96, 98, 600}"
      ]
     },
     "execution_count": 68,
     "metadata": {},
     "output_type": "execute_result"
    }
   ],
   "source": [
    "s.union(y)\n"
   ]
  },
  {
   "cell_type": "code",
   "execution_count": 62,
   "id": "6762ef71-c4d9-467b-a844-743c19eab6a9",
   "metadata": {},
   "outputs": [
    {
     "name": "stdin",
     "output_type": "stream",
     "text": [
      "Enter a positive integer:  8\n"
     ]
    },
    {
     "name": "stdout",
     "output_type": "stream",
     "text": [
      "The sum of all even numbers between 1 and 8 is: 20\n"
     ]
    }
   ],
   "source": [
    "def sum_of_evens(n):\n",
    "    \"\"\"\n",
    "    Calculate the sum of all even numbers between 1 and n.\n",
    "\n",
    "    :param n: A positive integer\n",
    "    :return: The sum of all even numbers between 1 and n\n",
    "    \"\"\"\n",
    "    if n < 1:\n",
    "        return 0\n",
    "    \n",
    "    # Calculate the sum of even numbers using a list comprehension and sum function\n",
    "    return sum(i for i in range(2, n + 1, 2))\n",
    "\n",
    "# Input from the user\n",
    "try:\n",
    "    n = int(input(\"Enter a positive integer: \"))\n",
    "    if n <= 0:\n",
    "        print(\"Please enter a positive integer greater than 0.\")\n",
    "    else:\n",
    "        result = sum_of_evens(n)\n",
    "        print(f\"The sum of all even numbers between 1 and {n} is: {result}\")\n",
    "except ValueError:\n",
    "    print(\"Invalid input! Please enter a valid positive integer.\")\n"
   ]
  },
  {
   "cell_type": "code",
   "execution_count": 8,
   "id": "5b0f6098-8727-441c-a3ce-e09e781054c0",
   "metadata": {},
   "outputs": [],
   "source": [
    "d ={102:100, 108:70, 607:30, 318:000,}\n"
   ]
  },
  {
   "cell_type": "code",
   "execution_count": 10,
   "id": "1774889a-2ddc-4e05-89ad-ec976178f1a6",
   "metadata": {},
   "outputs": [
    {
     "data": {
      "text/plain": [
       "{102: 100, 108: 70, 607: 30, 318: 0}"
      ]
     },
     "execution_count": 10,
     "metadata": {},
     "output_type": "execute_result"
    }
   ],
   "source": [
    "d"
   ]
  },
  {
   "cell_type": "code",
   "execution_count": 16,
   "id": "9de35be3-c4cf-4cbb-8941-f091c7d63ea9",
   "metadata": {},
   "outputs": [
    {
     "data": {
      "text/plain": [
       "{102: 600, 108: 70, 607: 30, 318: 0, 101: 600}"
      ]
     },
     "execution_count": 16,
     "metadata": {},
     "output_type": "execute_result"
    }
   ],
   "source": [
    "d.update({101: 600})# dist allow duplicate value-- right\n",
    "d"
   ]
  },
  {
   "cell_type": "code",
   "execution_count": 22,
   "id": "8c98814d-f9ad-4c2f-a3df-f0191234b931",
   "metadata": {},
   "outputs": [
    {
     "data": {
      "text/plain": [
       "{102: 600, 108: 70, 607: 30, 318: 'indian', 101: 600}"
      ]
     },
     "execution_count": 22,
     "metadata": {},
     "output_type": "execute_result"
    }
   ],
   "source": [
    "d.update({318: \"indian\"})# dist changes only value \n",
    "d\n"
   ]
  },
  {
   "cell_type": "code",
   "execution_count": 34,
   "id": "0ae72b29-9d8b-4c77-9381-0ad455d2864b",
   "metadata": {},
   "outputs": [
    {
     "data": {
      "text/plain": [
       "{102: 600, 108: 70, 607: [9000, 6000, 4004, 4637], 318: 'indian', 101: 600}"
      ]
     },
     "execution_count": 34,
     "metadata": {},
     "output_type": "execute_result"
    }
   ],
   "source": [
    "d[607] = [9000,6000,4004,4637]\n",
    "d"
   ]
  },
  {
   "cell_type": "code",
   "execution_count": 36,
   "id": "c82e735e-251c-45ac-9d37-c58e56fe0742",
   "metadata": {},
   "outputs": [
    {
     "data": {
      "text/plain": [
       "dict"
      ]
     },
     "execution_count": 36,
     "metadata": {},
     "output_type": "execute_result"
    }
   ],
   "source": [
    "type(d)"
   ]
  },
  {
   "cell_type": "code",
   "execution_count": 54,
   "id": "a7beac1f-1420-47a5-92df-a804ebcd16f3",
   "metadata": {},
   "outputs": [
    {
     "data": {
      "text/plain": [
       "str"
      ]
     },
     "execution_count": 54,
     "metadata": {},
     "output_type": "execute_result"
    }
   ],
   "source": [
    "type(d[318])"
   ]
  },
  {
   "cell_type": "code",
   "execution_count": 42,
   "id": "e92e5211-c61c-40e8-8d8a-7d9dcf6e4e31",
   "metadata": {},
   "outputs": [
    {
     "data": {
      "text/plain": [
       "'rahul'"
      ]
     },
     "execution_count": 42,
     "metadata": {},
     "output_type": "execute_result"
    }
   ],
   "source": [
    "a = \"rahul\n",
    "a"
   ]
  },
  {
   "cell_type": "code",
   "execution_count": 46,
   "id": "65dc6fcb-3b7d-49b9-8aff-b3244d020eb5",
   "metadata": {},
   "outputs": [
    {
     "data": {
      "text/plain": [
       "'RAHUL'"
      ]
     },
     "execution_count": 46,
     "metadata": {},
     "output_type": "execute_result"
    }
   ],
   "source": [
    "a.upper()"
   ]
  },
  {
   "cell_type": "code",
   "execution_count": 50,
   "id": "2dc14f49-2603-4f18-a0a6-ebe15eef68cc",
   "metadata": {},
   "outputs": [
    {
     "data": {
      "text/plain": [
       "False"
      ]
     },
     "execution_count": 50,
     "metadata": {},
     "output_type": "execute_result"
    }
   ],
   "source": [
    "a.isdigit()"
   ]
  },
  {
   "cell_type": "code",
   "execution_count": 60,
   "id": "ecdb810c-1736-4115-b222-bcc76de11ce1",
   "metadata": {},
   "outputs": [
    {
     "data": {
      "text/plain": [
       "[9000, 6000, 4004, 4637]"
      ]
     },
     "execution_count": 60,
     "metadata": {},
     "output_type": "execute_result"
    }
   ],
   "source": [
    "d[607]"
   ]
  },
  {
   "cell_type": "code",
   "execution_count": 66,
   "id": "ae0ff507-b20a-4135-84be-518c7dd07ab6",
   "metadata": {},
   "outputs": [
    {
     "data": {
      "text/plain": [
       "1"
      ]
     },
     "execution_count": 66,
     "metadata": {},
     "output_type": "execute_result"
    }
   ],
   "source": [
    "d[607].count(6000)"
   ]
  },
  {
   "cell_type": "code",
   "execution_count": 68,
   "id": "933a739d-9e5e-48a0-9222-52c2fd13963c",
   "metadata": {},
   "outputs": [
    {
     "data": {
      "text/plain": [
       "list"
      ]
     },
     "execution_count": 68,
     "metadata": {},
     "output_type": "execute_result"
    }
   ],
   "source": [
    "type(d[607])"
   ]
  },
  {
   "cell_type": "code",
   "execution_count": 74,
   "id": "8ace517e-f1fc-46f8-a85e-8e8b15c87896",
   "metadata": {},
   "outputs": [
    {
     "data": {
      "text/plain": [
       "4637"
      ]
     },
     "execution_count": 74,
     "metadata": {},
     "output_type": "execute_result"
    }
   ],
   "source": [
    "d[607].pop(3)"
   ]
  },
  {
   "cell_type": "code",
   "execution_count": 76,
   "id": "19661f0f-6cf9-4d81-b93d-0960d66dfec8",
   "metadata": {},
   "outputs": [
    {
     "data": {
      "text/plain": [
       "{102: 600, 108: 70, 607: [9000, 6000, 4004], 318: 'indian', 101: 600}"
      ]
     },
     "execution_count": 76,
     "metadata": {},
     "output_type": "execute_result"
    }
   ],
   "source": [
    "d"
   ]
  },
  {
   "cell_type": "code",
   "execution_count": 106,
   "id": "b8ca19f4-11fe-42d9-a594-7f52c1d34048",
   "metadata": {},
   "outputs": [
    {
     "data": {
      "text/plain": [
       "{101: 200,\n",
       " 102: 400,\n",
       " 103: 500,\n",
       " 104: 600,\n",
       " 105: 'indian',\n",
       " 106: [1000, 2000, 'rahul', 3000, 4000]}"
      ]
     },
     "execution_count": 106,
     "metadata": {},
     "output_type": "execute_result"
    }
   ],
   "source": [
    "d={\n",
    "    101: 200,\n",
    "    102: 400,\n",
    "    103: 500,\n",
    "    104: 600,\n",
    "    105: \"indian\",\n",
    "    106:[1000,2000,\"rahul\",3000,4000]\n",
    "    \n",
    "}\n",
    "d\n",
    "\n",
    "\n",
    "    "
   ]
  },
  {
   "cell_type": "code",
   "execution_count": 90,
   "id": "a477d7ca-5f40-43b8-9014-f043182ad25b",
   "metadata": {},
   "outputs": [
    {
     "data": {
      "text/plain": [
       "str"
      ]
     },
     "execution_count": 90,
     "metadata": {},
     "output_type": "execute_result"
    }
   ],
   "source": [
    "type(d[105])"
   ]
  },
  {
   "cell_type": "code",
   "execution_count": 92,
   "id": "c54c908c-c4ff-49be-9dbb-98c1d3c6d6ec",
   "metadata": {},
   "outputs": [
    {
     "data": {
      "text/plain": [
       "dict"
      ]
     },
     "execution_count": 92,
     "metadata": {},
     "output_type": "execute_result"
    }
   ],
   "source": [
    "type(d)"
   ]
  },
  {
   "cell_type": "code",
   "execution_count": 98,
   "id": "36e5960c-9bad-4a56-9584-7923f0a3fcef",
   "metadata": {},
   "outputs": [
    {
     "data": {
      "text/plain": [
       "{101: 200,\n",
       " 102: 400,\n",
       " 103: [30, 40, 50, 60, 50, 50],\n",
       " 104: 600,\n",
       " 105: 'indian',\n",
       " 106: [1000, 2000, 'rahul', 3000, 4000]}"
      ]
     },
     "execution_count": 98,
     "metadata": {},
     "output_type": "execute_result"
    }
   ],
   "source": [
    "d.update({103:[30,40,50,60,50,50]})\n",
    "d\n"
   ]
  },
  {
   "cell_type": "code",
   "execution_count": 102,
   "id": "1a3ac4d4-94d4-4410-8131-508b9329f3a3",
   "metadata": {},
   "outputs": [
    {
     "data": {
      "text/plain": [
       "3"
      ]
     },
     "execution_count": 102,
     "metadata": {},
     "output_type": "execute_result"
    }
   ],
   "source": [
    "d[103].count(50)"
   ]
  },
  {
   "cell_type": "code",
   "execution_count": 108,
   "id": "8d213601-fb97-458b-8ff3-387976d73c1d",
   "metadata": {},
   "outputs": [
    {
     "data": {
      "text/plain": [
       "str"
      ]
     },
     "execution_count": 108,
     "metadata": {},
     "output_type": "execute_result"
    }
   ],
   "source": [
    "type(d[105])"
   ]
  },
  {
   "cell_type": "code",
   "execution_count": 114,
   "id": "319e2b3e-b31b-4921-8371-01ee0e8097f8",
   "metadata": {},
   "outputs": [
    {
     "data": {
      "text/plain": [
       "'INDIAN'"
      ]
     },
     "execution_count": 114,
     "metadata": {},
     "output_type": "execute_result"
    }
   ],
   "source": [
    "d[105].upper()\n"
   ]
  },
  {
   "cell_type": "code",
   "execution_count": 116,
   "id": "ebf2865b-649c-4a75-b71b-5692b2c72a9b",
   "metadata": {},
   "outputs": [
    {
     "data": {
      "text/plain": [
       "{101: 200,\n",
       " 102: 400,\n",
       " 103: 500,\n",
       " 104: 600,\n",
       " 105: 'indian',\n",
       " 106: [1000, 2000, 'rahul', 3000, 4000]}"
      ]
     },
     "execution_count": 116,
     "metadata": {},
     "output_type": "execute_result"
    }
   ],
   "source": [
    "d"
   ]
  },
  {
   "cell_type": "code",
   "execution_count": 118,
   "id": "ca3d009c-d30a-409b-931e-edc974d0e3c0",
   "metadata": {},
   "outputs": [
    {
     "data": {
      "text/plain": [
       "{101: 200,\n",
       " 102: 400,\n",
       " 103: 500,\n",
       " 104: 600,\n",
       " 105: 'INDIAN',\n",
       " 106: [1000, 2000, 'rahul', 3000, 4000]}"
      ]
     },
     "execution_count": 118,
     "metadata": {},
     "output_type": "execute_result"
    }
   ],
   "source": [
    "d[105]=d[105].upper()\n",
    "d"
   ]
  },
  {
   "cell_type": "code",
   "execution_count": 120,
   "id": "1ee84433-d2b0-4ae4-9b01-dc112b1d88ea",
   "metadata": {},
   "outputs": [
    {
     "data": {
      "text/plain": [
       "'indian'"
      ]
     },
     "execution_count": 120,
     "metadata": {},
     "output_type": "execute_result"
    }
   ],
   "source": [
    "d[105].lower()"
   ]
  },
  {
   "cell_type": "code",
   "execution_count": 124,
   "id": "7ba7d10e-f498-4ae4-a446-d02da64dfb71",
   "metadata": {},
   "outputs": [
    {
     "data": {
      "text/plain": [
       "{101: 200,\n",
       " 102: 400,\n",
       " 103: 500,\n",
       " 104: 600,\n",
       " 105: 'indian',\n",
       " 106: [1000, 2000, 'rahul', 3000, 4000]}"
      ]
     },
     "execution_count": 124,
     "metadata": {},
     "output_type": "execute_result"
    }
   ],
   "source": [
    "d[105]=d[105].lower()\n",
    "d"
   ]
  },
  {
   "cell_type": "code",
   "execution_count": 140,
   "id": "4f05716c-12b7-4454-b4b2-157d11de1180",
   "metadata": {},
   "outputs": [],
   "source": [
    "d[107] ={\"a\":{30,50,70},\"b\":(1000,5000,7000,9000),'c':['K',{'L':[11,22],'M':(77,88)},'N']}# we can insert without insert method in dist"
   ]
  },
  {
   "cell_type": "code",
   "execution_count": 142,
   "id": "c1616367-2c83-4f05-aa47-8ec6e1deb944",
   "metadata": {},
   "outputs": [
    {
     "data": {
      "text/plain": [
       "{101: 200,\n",
       " 102: 400,\n",
       " 103: 500,\n",
       " 104: 600,\n",
       " 105: 'indian',\n",
       " 106: [1000, 2000, 'rahul', 3000, 4000],\n",
       " 107: {'a': {30, 50, 70},\n",
       "  'b': (1000, 5000, 7000, 9000),\n",
       "  'c': ['K', {'L': [11, 22], 'M': (77, 88)}, 'N']}}"
      ]
     },
     "execution_count": 142,
     "metadata": {},
     "output_type": "execute_result"
    }
   ],
   "source": [
    "d"
   ]
  },
  {
   "cell_type": "code",
   "execution_count": 172,
   "id": "fbf94343-72bf-41c1-b4e5-60de10f10cce",
   "metadata": {},
   "outputs": [],
   "source": [
    "d = {\n",
    "    101: {200: [7, 8, 9, 10], 'apple':(20, 10, 70, [90, 180, 270])},\n",
    "    102: 400,\n",
    "    103: 500,\n",
    "    104: 600,\n",
    "    105: 'indian',\n",
    "    106: [1000, 2000, 'rahul', 3000, 4000],\n",
    "    107: {'a': {30, 50, 70},\n",
    "    'b': (1000, 5000, 7000, 9000),\n",
    "    'c': ['K', {'L': [11, 22], 'M': (77, 88)}, 'N']}\n",
    "}\n",
    "\n"
   ]
  },
  {
   "cell_type": "code",
   "execution_count": 174,
   "id": "7e1341ef-c3ee-46f9-8bdf-3b97b579600d",
   "metadata": {},
   "outputs": [
    {
     "data": {
      "text/plain": [
       "{101: {200: [7, 8, 9, 10], 'apple': (20, 10, 70, [90, 180, 270])},\n",
       " 102: 400,\n",
       " 103: 500,\n",
       " 104: 600,\n",
       " 105: 'indian',\n",
       " 106: [1000, 2000, 'rahul', 3000, 4000],\n",
       " 107: {'a': {30, 50, 70},\n",
       "  'b': (1000, 5000, 7000, 9000),\n",
       "  'c': ['K', {'L': [11, 22], 'M': (77, 88)}, 'N']}}"
      ]
     },
     "execution_count": 174,
     "metadata": {},
     "output_type": "execute_result"
    }
   ],
   "source": [
    "d"
   ]
  },
  {
   "cell_type": "code",
   "execution_count": 176,
   "id": "f51f4354-9e4e-45a3-b1fc-6297cdc4e693",
   "metadata": {},
   "outputs": [
    {
     "data": {
      "text/plain": [
       "{200: [7, 8, 9, 10], 'apple': (20, 10, 70, [90, 180, 270])}"
      ]
     },
     "execution_count": 176,
     "metadata": {},
     "output_type": "execute_result"
    }
   ],
   "source": [
    "d[101]"
   ]
  },
  {
   "cell_type": "code",
   "execution_count": 182,
   "id": "00da895b-13e9-4501-9560-23fffaecfa19",
   "metadata": {},
   "outputs": [
    {
     "data": {
      "text/plain": [
       "180"
      ]
     },
     "execution_count": 182,
     "metadata": {},
     "output_type": "execute_result"
    }
   ],
   "source": [
    "d[101]['apple'][3][1]"
   ]
  },
  {
   "cell_type": "code",
   "execution_count": null,
   "id": "bc4ca445-a5c4-41a9-a094-7b950f4d1092",
   "metadata": {},
   "outputs": [],
   "source": []
  },
  {
   "cell_type": "code",
   "execution_count": null,
   "id": "86110c69-4f7f-4db9-b0c3-2d9d871b245c",
   "metadata": {},
   "outputs": [],
   "source": []
  }
 ],
 "metadata": {
  "kernelspec": {
   "display_name": "Python [conda env:base] *",
   "language": "python",
   "name": "conda-base-py"
  },
  "language_info": {
   "codemirror_mode": {
    "name": "ipython",
    "version": 3
   },
   "file_extension": ".py",
   "mimetype": "text/x-python",
   "name": "python",
   "nbconvert_exporter": "python",
   "pygments_lexer": "ipython3",
   "version": "3.12.7"
  }
 },
 "nbformat": 4,
 "nbformat_minor": 5
}
