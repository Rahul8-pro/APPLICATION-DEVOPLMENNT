{
 "cells": [
  {
   "cell_type": "code",
   "execution_count": 4,
   "id": "308894cd-c504-492c-b2c3-43a21849f3de",
   "metadata": {},
   "outputs": [],
   "source": [
    "import numpy as np\n",
    "import random"
   ]
  },
  {
   "cell_type": "code",
   "execution_count": 6,
   "id": "345b2e23-12b2-4cf1-a06e-4af417f0a47e",
   "metadata": {},
   "outputs": [
    {
     "data": {
      "text/plain": [
       "array([[ 9.54535238,  9.59756089, 10.7265866 , 14.34762872],\n",
       "       [13.0293114 ,  9.61044676, 11.08713585, 10.97906094],\n",
       "       [11.47329144,  8.41653143,  9.71823919,  8.57693397],\n",
       "       [11.16850804,  5.72445417, 10.66976418,  9.58218891],\n",
       "       [ 8.81720956, 11.41818415,  7.93167874, 11.8814426 ],\n",
       "       [ 9.36956673,  7.09550067,  9.2050417 , 10.75352629],\n",
       "       [ 6.91184567,  8.42524515,  8.56942761,  9.34888478]])"
      ]
     },
     "execution_count": 6,
     "metadata": {},
     "output_type": "execute_result"
    }
   ],
   "source": [
    "np.random.normal(10,2,(7,4))"
   ]
  },
  {
   "cell_type": "raw",
   "id": "905e0b5d-7991-4777-bf53-cd26330014ac",
   "metadata": {},
   "source": [
    "stud_2nd=[18,19,20,20,20,19,18,18,18,]"
   ]
  },
  {
   "cell_type": "code",
   "execution_count": 8,
   "id": "512da38c-1e8b-4762-98a0-9493d58edcdf",
   "metadata": {},
   "outputs": [
    {
     "data": {
      "text/plain": [
       "[30, 20, 5, 8, 9]"
      ]
     },
     "execution_count": 8,
     "metadata": {},
     "output_type": "execute_result"
    }
   ],
   "source": [
    "h=[30,20,5,8,9]\n",
    "h"
   ]
  },
  {
   "cell_type": "code",
   "execution_count": 31,
   "id": "ffc5fe6c-71ff-4c01-867e-6955381fbd26",
   "metadata": {},
   "outputs": [],
   "source": [
    "for i in range(len(h)):\n",
    "    h[i] = h[i]+5"
   ]
  },
  {
   "cell_type": "code",
   "execution_count": 33,
   "id": "6e475f5d-7d3e-4f0c-8127-c4708b2f9822",
   "metadata": {},
   "outputs": [
    {
     "data": {
      "text/plain": [
       "[55, 45, 30, 33, 34]"
      ]
     },
     "execution_count": 33,
     "metadata": {},
     "output_type": "execute_result"
    }
   ],
   "source": [
    "h"
   ]
  },
  {
   "cell_type": "code",
   "execution_count": 55,
   "id": "e28f06d6-79e7-4991-ad16-6986948ecacc",
   "metadata": {},
   "outputs": [],
   "source": [
    "d=[]\n",
    "for i in h:\n",
    "    d.append(i+5)"
   ]
  },
  {
   "cell_type": "code",
   "execution_count": 57,
   "id": "2263ccdf-04bc-404c-8584-1a7c3a380ab8",
   "metadata": {},
   "outputs": [
    {
     "data": {
      "text/plain": [
       "[60, 50, 35, 38, 39]"
      ]
     },
     "execution_count": 57,
     "metadata": {},
     "output_type": "execute_result"
    }
   ],
   "source": [
    "d"
   ]
  },
  {
   "cell_type": "code",
   "execution_count": 59,
   "id": "9250d9a8-1c0e-4bcc-84d1-5a0c7e45ec2f",
   "metadata": {},
   "outputs": [
    {
     "data": {
      "text/plain": [
       "(6, 2, 3, 9, 7, 5, 8)"
      ]
     },
     "execution_count": 59,
     "metadata": {},
     "output_type": "execute_result"
    }
   ],
   "source": [
    "s=(6,2,3,9,7,5,8)\n",
    "s"
   ]
  },
  {
   "cell_type": "code",
   "execution_count": 69,
   "id": "b66de9b1-3656-4def-b99f-9d06c03848f5",
   "metadata": {},
   "outputs": [
    {
     "data": {
      "text/plain": [
       "(36, 4, 9, 81, 49, 25, 64)"
      ]
     },
     "execution_count": 69,
     "metadata": {},
     "output_type": "execute_result"
    }
   ],
   "source": [
    "t=list(s)\n",
    "e=[]\n",
    "for i in t:\n",
    "    e.append(i**2)\n",
    "t=tuple(e)\n",
    "t"
   ]
  },
  {
   "cell_type": "code",
   "execution_count": 71,
   "id": "99d01d54-3e21-4a57-a925-e4fcba7242c6",
   "metadata": {},
   "outputs": [
    {
     "data": {
      "text/plain": [
       "(36, 4, 9, 81, 49, 25, 64)"
      ]
     },
     "execution_count": 71,
     "metadata": {},
     "output_type": "execute_result"
    }
   ],
   "source": [
    "tuple(x**2 for x in s)"
   ]
  },
  {
   "cell_type": "code",
   "execution_count": 73,
   "id": "47d9c501-a7ff-49c2-b064-11bc8fa06c51",
   "metadata": {},
   "outputs": [
    {
     "data": {
      "text/plain": [
       "(6, 2, 3, 9, 7, 5, 8)"
      ]
     },
     "execution_count": 73,
     "metadata": {},
     "output_type": "execute_result"
    }
   ],
   "source": [
    "y=list(s)\n",
    "k=[]\n",
    "for i in y:\n",
    "    k.append(i**2)\n",
    "s=tuple(s)\n",
    "s"
   ]
  },
  {
   "cell_type": "code",
   "execution_count": null,
   "id": "717bc752-9392-479b-b08b-e8847a79def2",
   "metadata": {},
   "outputs": [],
   "source": []
  },
  {
   "cell_type": "code",
   "execution_count": 81,
   "id": "c174a952-c766-49bd-8001-6ab99713dd29",
   "metadata": {},
   "outputs": [],
   "source": [
    "sd=[]\n",
    "for i in t:\n",
    "    if(i>30):\n",
    "        sd.append(i)\n",
    "sd = tuple(sd)"
   ]
  },
  {
   "cell_type": "code",
   "execution_count": 83,
   "id": "272ec355-53f9-4cd2-b9ba-afc768565dfb",
   "metadata": {},
   "outputs": [
    {
     "data": {
      "text/plain": [
       "(36, 81, 49, 64)"
      ]
     },
     "execution_count": 83,
     "metadata": {},
     "output_type": "execute_result"
    }
   ],
   "source": [
    "sd"
   ]
  },
  {
   "cell_type": "code",
   "execution_count": null,
   "id": "5852b0e0-8dcb-4ad1-8bdc-60c306ceaf20",
   "metadata": {},
   "outputs": [],
   "source": []
  }
 ],
 "metadata": {
  "kernelspec": {
   "display_name": "Python [conda env:base] *",
   "language": "python",
   "name": "conda-base-py"
  },
  "language_info": {
   "codemirror_mode": {
    "name": "ipython",
    "version": 3
   },
   "file_extension": ".py",
   "mimetype": "text/x-python",
   "name": "python",
   "nbconvert_exporter": "python",
   "pygments_lexer": "ipython3",
   "version": "3.12.7"
  }
 },
 "nbformat": 4,
 "nbformat_minor": 5
}
